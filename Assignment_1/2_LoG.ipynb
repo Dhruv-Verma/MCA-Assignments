{
  "nbformat": 4,
  "nbformat_minor": 0,
  "metadata": {
    "colab": {
      "name": "2_LoG.ipynb",
      "provenance": [],
      "collapsed_sections": []
    },
    "kernelspec": {
      "name": "python3",
      "display_name": "Python 3"
    }
  },
  "cells": [
    {
      "cell_type": "code",
      "metadata": {
        "id": "zQ9JJSQSL3IF",
        "colab_type": "code",
        "colab": {}
      },
      "source": [
        "from google.colab import files\n",
        "from google.colab import drive\n",
        "import os\n",
        "import pandas as pd\n",
        "import pickle\n",
        "import os\n",
        "import time\n",
        "from statistics import mean\n",
        "import math\n",
        "from PIL import Image\n",
        "import numpy as np\n",
        "import pandas as pd\n",
        "from IPython.display import display\n",
        "import pickle as pkl\n",
        "import multiprocessing\n",
        "import threading\n",
        "import cv2\n",
        "import matplotlib.pyplot as plt\n",
        "from google.colab.patches import cv2_imshow"
      ],
      "execution_count": 0,
      "outputs": []
    },
    {
      "cell_type": "code",
      "metadata": {
        "id": "-8ekLOIYMLmO",
        "colab_type": "code",
        "colab": {}
      },
      "source": [
        "drive.mount('/content/drive/')\n",
        "os.chdir('drive/My Drive/Winter 2020/MCA Assignments/Assignment-1/')"
      ],
      "execution_count": 0,
      "outputs": []
    },
    {
      "cell_type": "code",
      "metadata": {
        "id": "KQWBYY6LN7dS",
        "colab_type": "code",
        "colab": {}
      },
      "source": [
        "img = Image.open('images/all_souls_000000.jpg')\n",
        "pixels = np.asarray(img.getdata())"
      ],
      "execution_count": 0,
      "outputs": []
    },
    {
      "cell_type": "code",
      "metadata": {
        "id": "zpEO_bC9SCr9",
        "colab_type": "code",
        "colab": {}
      },
      "source": [
        "def process(img_src):\n",
        "    img = cv2.imread(img_src, 0)\n",
        "    w, h = img.shape\n",
        "    return img"
      ],
      "execution_count": 0,
      "outputs": []
    },
    {
      "cell_type": "code",
      "metadata": {
        "id": "YxnyPTtoUot0",
        "colab_type": "code",
        "colab": {}
      },
      "source": [
        "# img = process('images/all_souls_000000.jpg')\n",
        "img = process('sample.jpeg')"
      ],
      "execution_count": 0,
      "outputs": []
    },
    {
      "cell_type": "code",
      "metadata": {
        "id": "kY3BhSYXoK9f",
        "colab_type": "code",
        "colab": {}
      },
      "source": [
        "im = Image.fromarray(img)\n",
        "display(im)"
      ],
      "execution_count": 0,
      "outputs": []
    },
    {
      "cell_type": "markdown",
      "metadata": {
        "id": "SI64ESJcbx9u",
        "colab_type": "text"
      },
      "source": [
        "**Window Size of Mask = 6 * sigma** (Optimum) \\\\\n",
        "credits: \n",
        "1. http://www.sci.utah.edu/~weiliu/class/aip/p1/\n",
        "2. http://www.cs.unc.edu/~lazebnik/spring11/lec08_blob.pdf\n",
        "3. [Tutorial on LoG](https://projectsflix.com/opencv/laplacian-blob-detector-using-python/)\n"
      ]
    },
    {
      "cell_type": "code",
      "metadata": {
        "id": "Otac4HQynpcc",
        "colab_type": "code",
        "colab": {}
      },
      "source": [
        "k = 2\n",
        "sigma = 1.0"
      ],
      "execution_count": 0,
      "outputs": []
    },
    {
      "cell_type": "code",
      "metadata": {
        "id": "e_s42LnLU_dY",
        "colab_type": "code",
        "colab": {}
      },
      "source": [
        "def LoG(sigma): \n",
        "    n = int(np.ceil(sigma * 6)) # Window Size\n",
        "    values = np.array(range(-n//2, n//2+1)) \n",
        "    l = len(values)\n",
        "    x = values.reshape(1,l)\n",
        "    y = values.reshape(l,1)\n",
        "    filter = (-(2*sigma**2) + (x*x + y*y) ) *  (np.exp(-(y*y/(2.*sigma*sigma))) * np.exp(-(x*x/(2.*sigma*sigma)))) * (1/(2*np.pi*sigma**4)) # Scale Normalized LoG\n",
        "    return filter"
      ],
      "execution_count": 0,
      "outputs": []
    },
    {
      "cell_type": "code",
      "metadata": {
        "id": "Q3PJ3mCt05TP",
        "colab_type": "code",
        "colab": {}
      },
      "source": [
        "LoG_filters = []\n",
        "n_filters = 9\n",
        "for i in range(n_filters):\n",
        "    y = np.power(k,i) \n",
        "    scale = sigma * y            \n",
        "    filt = LoG(scale)           \n",
        "    LoG_filters.append(filt)"
      ],
      "execution_count": 0,
      "outputs": []
    },
    {
      "cell_type": "code",
      "metadata": {
        "id": "MCKN_0ZM0Cwv",
        "colab_type": "code",
        "colab": {}
      },
      "source": [
        "def patch(img, n_count):\n",
        "    "
      ],
      "execution_count": 0,
      "outputs": []
    },
    {
      "cell_type": "code",
      "metadata": {
        "id": "bU12ZAageWze",
        "colab_type": "code",
        "colab": {}
      },
      "source": [
        "contrastThreshold = 0.03\n",
        "def blob_detection(image):\n",
        "    log_images = []\n",
        "    for filt in LoG_filters:\n",
        "        img = cv2.filter2D(src= image, ddepth=cv2.CV_64F, kernel= filt)             # Applied LoG\n",
        "        img = np.pad(img,((1,1),(1,1)),'constant')      # Padding for 3x3 selection \n",
        "        img = np.square(img)                            # Squared response\n",
        "        log_images.append(img)\n",
        "    log_images = np.array(log_images)\n",
        "    \n",
        "    coordinates = [] \n",
        "    height, width = np.shape(image)\n",
        "    for i in range(1,height):\n",
        "        for j in range(1,width):\n",
        "            sliced_imgs = []\n",
        "            for a in log_images:\n",
        "                sliced_imgs.append(a[i-1:i+2,j-1:j+2])\n",
        "            sliced_img = np.array(sliced_image)   # 9*3*3 local slice\n",
        "            result = np.amax(sliced_img)                 # Finding maximum\n",
        "            if (result >=contrastThreshold):                        # Contrast Threshold \n",
        "                loc = np.where(sliced_img == result)\n",
        "                z,x,y = loc[0][0], loc[1][0], loc[2][0]\n",
        "                coordinates.append((i+x-1, j+y-1, (k**z)*sigma))    \n",
        "    return coordinates"
      ],
      "execution_count": 0,
      "outputs": []
    },
    {
      "cell_type": "code",
      "metadata": {
        "id": "ecnsOJ9TA5aT",
        "colab_type": "code",
        "colab": {}
      },
      "source": [
        "coord = blob_detection(img)"
      ],
      "execution_count": 0,
      "outputs": []
    },
    {
      "cell_type": "code",
      "metadata": {
        "id": "K99QkjgYql1n",
        "colab_type": "code",
        "colab": {}
      },
      "source": [
        "print(coord) # radius = z-axis(coord)*1.414"
      ],
      "execution_count": 0,
      "outputs": []
    }
  ]
}