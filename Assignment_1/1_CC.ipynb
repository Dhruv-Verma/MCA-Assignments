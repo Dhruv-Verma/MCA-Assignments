{
  "nbformat": 4,
  "nbformat_minor": 0,
  "metadata": {
    "colab": {
      "name": "1_CC.ipynb",
      "provenance": [],
      "collapsed_sections": []
    },
    "kernelspec": {
      "name": "python3",
      "display_name": "Python 3"
    }
  },
  "cells": [
    {
      "cell_type": "code",
      "metadata": {
        "id": "e_SnwZKWIepR",
        "colab_type": "code",
        "colab": {}
      },
      "source": [
        "from google.colab import files\n",
        "from google.colab import drive\n",
        "import os\n",
        "import pandas as pd\n",
        "import pickle\n",
        "import os\n",
        "import time\n",
        "from statistics import mean\n",
        "import math\n",
        "from PIL import Image\n",
        "import numpy as np\n",
        "import pandas as pd\n",
        "from IPython.display import display\n",
        "import pickle as pkl\n",
        "import multiprocessing\n",
        "import threading\n",
        "from heapq import nlargest\n",
        "import time"
      ],
      "execution_count": 0,
      "outputs": []
    },
    {
      "cell_type": "code",
      "metadata": {
        "id": "96QyDi79cZ5S",
        "colab_type": "code",
        "colab": {
          "base_uri": "https://localhost:8080/",
          "height": 203
        },
        "outputId": "0f641aab-6e0d-41be-8c24-bc1ccfe9a0aa"
      },
      "source": [
        "drive.mount('/content/drive/')\n",
        "os.chdir('drive/My Drive/Winter 2020/MCA Assignments/Assignment-1/')"
      ],
      "execution_count": 30,
      "outputs": [
        {
          "output_type": "stream",
          "text": [
            "Drive already mounted at /content/drive/; to attempt to forcibly remount, call drive.mount(\"/content/drive/\", force_remount=True).\n"
          ],
          "name": "stdout"
        },
        {
          "output_type": "error",
          "ename": "FileNotFoundError",
          "evalue": "ignored",
          "traceback": [
            "\u001b[0;31m---------------------------------------------------------------------------\u001b[0m",
            "\u001b[0;31mFileNotFoundError\u001b[0m                         Traceback (most recent call last)",
            "\u001b[0;32m<ipython-input-30-782b13c33245>\u001b[0m in \u001b[0;36m<module>\u001b[0;34m()\u001b[0m\n\u001b[1;32m      1\u001b[0m \u001b[0mdrive\u001b[0m\u001b[0;34m.\u001b[0m\u001b[0mmount\u001b[0m\u001b[0;34m(\u001b[0m\u001b[0;34m'/content/drive/'\u001b[0m\u001b[0;34m)\u001b[0m\u001b[0;34m\u001b[0m\u001b[0;34m\u001b[0m\u001b[0m\n\u001b[0;32m----> 2\u001b[0;31m \u001b[0mos\u001b[0m\u001b[0;34m.\u001b[0m\u001b[0mchdir\u001b[0m\u001b[0;34m(\u001b[0m\u001b[0;34m'drive/My Drive/Winter 2020/MCA Assignments/Assignment-1/'\u001b[0m\u001b[0;34m)\u001b[0m\u001b[0;34m\u001b[0m\u001b[0;34m\u001b[0m\u001b[0m\n\u001b[0m",
            "\u001b[0;31mFileNotFoundError\u001b[0m: [Errno 2] No such file or directory: 'drive/My Drive/Winter 2020/MCA Assignments/Assignment-1/'"
          ]
        }
      ]
    },
    {
      "cell_type": "code",
      "metadata": {
        "id": "BuljOaoslRyL",
        "colab_type": "code",
        "outputId": "48ead632-3fb7-4e22-97b0-82b5c5529fe9",
        "colab": {
          "base_uri": "https://localhost:8080/",
          "height": 35
        }
      },
      "source": [
        "os.getcwd()"
      ],
      "execution_count": 31,
      "outputs": [
        {
          "output_type": "execute_result",
          "data": {
            "text/plain": [
              "'/content/drive/My Drive/Winter 2020/MCA Assignments/Assignment-1'"
            ]
          },
          "metadata": {
            "tags": []
          },
          "execution_count": 31
        }
      ]
    },
    {
      "cell_type": "markdown",
      "metadata": {
        "id": "cQ9--ztfmdeo",
        "colab_type": "text"
      },
      "source": [
        "Data Preprocessing"
      ]
    },
    {
      "cell_type": "code",
      "metadata": {
        "id": "RNWxngFYEQNi",
        "colab_type": "code",
        "colab": {}
      },
      "source": [
        "def resize(img, factor):\n",
        "    return img.resize((int(img.size[0]/factor), int(img.size[1]/factor)))\n",
        "\n",
        "def quantize(img, n_colors):\n",
        "    return img.quantize(n_colors)\n",
        "\n",
        "def process(img_src):\n",
        "    img = Image.open(img_src)\n",
        "    img = quantize(img, 64)\n",
        "    img = resize(img, 4)\n",
        "    width, height = img.size\n",
        "    processed = np.array(list(img.getdata())).reshape((width, height))\n",
        "    return processed"
      ],
      "execution_count": 0,
      "outputs": []
    },
    {
      "cell_type": "code",
      "metadata": {
        "id": "4-m-nTMPc-PM",
        "colab_type": "code",
        "colab": {}
      },
      "source": [
        "directory = 'images/'\n",
        "image_pixels = {}\n",
        "print('Preprocessing images and converting into pixels')\n",
        "i=1\n",
        "for f in os.listdir(directory):\n",
        "    # print(f)\n",
        "    if f.endswith(\".jpg\"):\n",
        "        print(str(i)+ ' '+ f)\n",
        "        image_pixels[f] = process(directory + f)\n",
        "        i+=1"
      ],
      "execution_count": 0,
      "outputs": []
    },
    {
      "cell_type": "code",
      "metadata": {
        "id": "je61p00HSPjK",
        "colab_type": "code",
        "colab": {}
      },
      "source": [
        "pkl.dump(image_pixels, open('image_pixels.pkl', 'wb'))"
      ],
      "execution_count": 0,
      "outputs": []
    },
    {
      "cell_type": "markdown",
      "metadata": {
        "id": "Wr9pRHUYHX4g",
        "colab_type": "text"
      },
      "source": [
        "**Color Auto-Correlogram** \\\\\n",
        "credits: [Mathworks: Color Auto-Correlogram](https://in.mathworks.com/matlabcentral/fileexchange/46093-color-auto-correlogram) "
      ]
    },
    {
      "cell_type": "code",
      "metadata": {
        "id": "F2mtFPm_coYU",
        "colab_type": "code",
        "colab": {}
      },
      "source": [
        "# Helper functions    \n",
        "\n",
        "def get_nbrh(d, x, y, color, I, X, Y):    \n",
        "    positive_count = 0   \n",
        "    total_count = 0\n",
        "    #property of inf-norm, every distance is 8 times the order.\n",
        "    x_nbrs = np.zeros(8*d)  \n",
        "    y_nbrs = np.zeros(8*d)\n",
        "\n",
        "    #X-coordinates\n",
        "    #from 0 to d\n",
        "    x_nbrs.put(list(range(d)), x-d)\n",
        "\n",
        "    #from d to 3d  \n",
        "    n = 0\n",
        "    for k in range(d,3*d):\n",
        "        x_nbrs[k] = x - d + n\n",
        "        n+=1\n",
        "\n",
        "    #from 3d to 5d\n",
        "    x_nbrs.put(list(range(3*d, 5*d)), x+d)\n",
        "\n",
        "    #from 5d to 7d\n",
        "    n = 0\n",
        "    for k in range(5*d,7*d):\n",
        "        x_nbrs[k] = x + d - n\n",
        "        n+=1\n",
        "    \n",
        "    #from 7d to end\n",
        "    x_nbrs.put(list(range(7*d, 8*d)), x-d)    \n",
        "\n",
        "\n",
        "    #Y-coordinates \n",
        "    #from 1 to d\n",
        "    y_nbrs[0] = y\n",
        "    n = 1 \n",
        "    for k in range(1,d):\n",
        "        y_nbrs[k] = y - n\n",
        "        n+=1\n",
        "\n",
        "    #from d to 3d\n",
        "    y_nbrs.put(list(range(d,3*d)), y-d)\n",
        "        \n",
        "    #from 3d to 5d\n",
        "    n = 0\n",
        "    for k in range(3*d,5*d):\n",
        "        y_nbrs[k] = y - d + n\n",
        "        n+=1\n",
        "        \n",
        "    #from 5d to 7d\n",
        "    y_nbrs.put(list(range(5*d,7*d)), y+d)\n",
        "\n",
        "    #from 7d to 8d\n",
        "    n = 0\n",
        "    for k in range(7*d,8*d):\n",
        "        y_nbrs[k] = y + d - n\n",
        "        n+=1   \n",
        "\n",
        "    # Counting common number of colors in the neighborhood\n",
        "    for i in range(8*d):\n",
        "        if x_nbrs[i] >= 0 and x_nbrs[i] < X:\n",
        "            if y_nbrs[i] >= 0 and y_nbrs[i] < Y:\n",
        "                nbr_color = I[int(y_nbrs[i])][int(x_nbrs[i])]\n",
        "                if nbr_color == color or abs(nbr_color-color)==1:\n",
        "                    positive_count += 1\n",
        "                total_count += 1\n",
        "\n",
        "    return positive_count, total_count"
      ],
      "execution_count": 0,
      "outputs": []
    },
    {
      "cell_type": "code",
      "metadata": {
        "id": "26JI0pa2HR8r",
        "colab_type": "code",
        "colab": {}
      },
      "source": [
        "m = 64\n",
        "\n",
        "def color_auto_corr(I, dist_vector):\n",
        "    correlogram_vector = []\n",
        "    d = len(dist_vector)\n",
        "    count = np.zeros((m, d))\n",
        "    total = np.zeros((m, d))\n",
        "    prob = np.zeros((d, m))\n",
        "    height, width = np.shape(I)\n",
        "    \n",
        "    for i in range(d):\n",
        "        for x in range(width):\n",
        "            for y in range(height):\n",
        "                color = I[y][x]\n",
        "                positive_count, total_count = get_nbrh(dist_vector[i], x, y, color, I, width, height)\n",
        "                count[color][i] = count[color][i] + positive_count\n",
        "                total[color][i] = total[color][i] + total_count \n",
        "        prob[i] = count[:,i]/total[:,i]\n",
        "\n",
        "    for i in range(d):\n",
        "        correlogram_vector.append(prob[i])\n",
        "\n",
        "    return correlogram_vector"
      ],
      "execution_count": 0,
      "outputs": []
    },
    {
      "cell_type": "markdown",
      "metadata": {
        "id": "7x_wytfIxqv8",
        "colab_type": "text"
      },
      "source": [
        "Calculate Features"
      ]
    },
    {
      "cell_type": "code",
      "metadata": {
        "id": "p2TXyA7z1UbE",
        "colab_type": "code",
        "colab": {}
      },
      "source": [
        "image_pixels = pkl.load(open('image_pixels.pkl', 'rb'))"
      ],
      "execution_count": 0,
      "outputs": []
    },
    {
      "cell_type": "code",
      "metadata": {
        "id": "Isd3_1U5QULD",
        "colab_type": "code",
        "colab": {}
      },
      "source": [
        "print(image_pixels)"
      ],
      "execution_count": 0,
      "outputs": []
    },
    {
      "cell_type": "code",
      "metadata": {
        "colab_type": "code",
        "id": "LaroFrN45mpE",
        "colab": {}
      },
      "source": [
        "image_features = {}\n",
        "distances = [1,3,5]\n",
        "\n",
        "images = sorted(image_pixels.keys())\n",
        "n_threads = 10\n",
        "reponsibility = []\n",
        "start = 0\n",
        "for i in range(n_threads):\n",
        "    start = i*500\n",
        "    stop = start + 500\n",
        "    reponsibility.append(images[start:stop]) \n",
        "start += 500\n",
        "extra = images[start:]\n",
        "# print(extra)\n",
        "\n",
        "k=1\n",
        "for i in range(1):\n",
        "    workers = []\n",
        "    for j in range(n_threads):\n",
        "        p = threading.Thread(target= color_auto_corr, args= (image_pixels[reponsibility[j][i]], distances)).\n",
        "        # p = multiprocessing.Process(target= color_auto_corr, args= (image_pixels[reponsibility[j][i]], distances))\n",
        "        workers.append(p)\n",
        "        image_features[reponsibility[j][i]] = p\n",
        "        workers[j].start()\n",
        "\n",
        "    for j in range(n_threads):\n",
        "        workers[j].join()\n",
        "        # print('worker' + str(j) + ' resp' + str(i))\n",
        "        print(k)\n",
        "        k+=1"
      ],
      "execution_count": 0,
      "outputs": []
    },
    {
      "cell_type": "markdown",
      "metadata": {
        "id": "ZrsqdwWQK86e",
        "colab_type": "text"
      },
      "source": [
        "Image Retrieval"
      ]
    },
    {
      "cell_type": "code",
      "metadata": {
        "id": "1TYuRkr6KQax",
        "colab_type": "code",
        "colab": {}
      },
      "source": [
        "image_features = pkl.load(open('image_features.pkl', 'rb')) # Flattened Feature List"
      ],
      "execution_count": 0,
      "outputs": []
    },
    {
      "cell_type": "markdown",
      "metadata": {
        "id": "XfhO9HnBMo-F",
        "colab_type": "text"
      },
      "source": [
        "Similarity Measure"
      ]
    },
    {
      "cell_type": "code",
      "metadata": {
        "id": "m44qQRhmMoR3",
        "colab_type": "code",
        "colab": {}
      },
      "source": [
        "def similarity(query_corr, sample_corr, m):\n",
        "    sum_arr = []\n",
        "    for a,b in zip(query_corr, sample_corr):\n",
        "        sum_arr.append(abs(a-b)/(1+a+b))\n",
        "    return (1/m)*(sum(sum_arr))\n",
        "\n",
        "def percent(num, denom):\n",
        "    return num/denom * 100"
      ],
      "execution_count": 0,
      "outputs": []
    },
    {
      "cell_type": "code",
      "metadata": {
        "id": "zlAlobBKE6b1",
        "colab_type": "code",
        "colab": {}
      },
      "source": [
        "total_imgs = 5063\n",
        "\n",
        "directory = 'train/query/'\n",
        "query = []\n",
        "\n",
        "good_per = []\n",
        "junk_per = []\n",
        "ok_per = []\n",
        "\n",
        "precision = []\n",
        "recall = []\n",
        "f1 = []\n",
        "\n",
        "retrieval_time = []\n",
        "\n",
        "for f in os.listdir(directory):\n",
        "    print('Start Retrieval')\n",
        "    start = time.time()  \n",
        "    file = open('train/query/'+ f)\n",
        "    line = file.readline()\n",
        "    file.close()\n",
        "    file_name = f\n",
        "    # Without Bounding Box\n",
        "    image_name = line.split(\" \")[0][5:]\n",
        "    query.append(image_name+'.jpg')\n",
        "    query_corr = image_features.loc[image_name+'.jpg'].values.tolist()\n",
        "    scores = {}\n",
        "    for img in image_features.index:\n",
        "        if (img != str(image_name+'.jpg')):\n",
        "            scores[img] = similarity(query_corr, image_features.loc[img].values.tolist(), m)\n",
        "\n",
        "    good_images = [line.rstrip('\\n') for line in open('train/ground_truth/'+file_name[:-9]+'good.txt')]\n",
        "    junk_images = [line.rstrip('\\n') for line in open('train/ground_truth/'+file_name[:-9]+'junk.txt')]\n",
        "    ok_images = [line.rstrip('\\n') for line in open('train/ground_truth/'+file_name[:-9]+'ok.txt')]\n",
        "    \n",
        "    n = len(good_images) + len(junk_images) + len(ok_images) #top n images to be retrieved\n",
        "    \n",
        "    top_n = nlargest(n, scores, key = scores.get)\n",
        "    \n",
        "    end = time.time()\n",
        "    print('End Retrieval')\n",
        "    \n",
        "    # Predicted Values present in ground-truth\n",
        "    n_good = 0\n",
        "    n_junk = 0\n",
        "    n_ok = 0\n",
        "    \n",
        "    for a in top_n:\n",
        "        if a[:-4] in good_images:\n",
        "            n_good+=1\n",
        "        if a[:-4] in junk_images:\n",
        "            n_junk+=1\n",
        "        if a[:-4] in ok_images:\n",
        "            n_ok+=1 \n",
        "\n",
        "    # Calculate Percentages\n",
        "    ok_per.append(percent(n_ok,len(ok_images)))\n",
        "    junk_per.append(percent(n_junk,len(junk_images)))\n",
        "    good_per.append(percent(n_good,len(good_images)))\n",
        "\n",
        "    tp = 0\n",
        "    fn = 0 \n",
        "    fp = 0\n",
        "\n",
        "    for a in top_n:\n",
        "        if a[:-4] in good_images or a[:-4] in junk_images or a[:-4] in ok_images:\n",
        "            tp+=1\n",
        "        else:\n",
        "            fp+=1\n",
        "    fn = n - tp\n",
        "\n",
        "    # Calculate Precision-Recall\n",
        "    precn = (tp)/(tp + fp)                  \n",
        "    recal = (tp)/(tp + fn)                \n",
        "    try:\n",
        "        f_sc = 2 * (precn * recal) / (precn + recal)\n",
        "    except ZeroDivisionError:\n",
        "        f_sc = 0\n",
        "\n",
        "    print(f + \" Precision: \" + str(precn) +\" Recall: \"+ str(recal) + \" F1: \"+str(f_sc))\n",
        "\n",
        "    precision.append(precn)    \n",
        "    recall.append(recal)        \n",
        "    f1.append(f_sc)\n",
        "    \n",
        "    retrieval_time.append(end-start)"
      ],
      "execution_count": 0,
      "outputs": []
    },
    {
      "cell_type": "code",
      "metadata": {
        "id": "4z5dFGXkAVzN",
        "colab_type": "code",
        "colab": {}
      },
      "source": [
        "print(\"Avg Precision: \"+ str(np.mean(precision)))\n",
        "print(\"Avg Recall: \"+ str(np.mean(recall)))\n",
        "print(\"Avg F1: \"+ str(np.mean(f1)))\n",
        "print(\"Avg good: \"+ str(np.mean(good_per)))\n",
        "print(\"Avg junk: \"+ str(np.mean(junk_per)))\n",
        "print(\"Avg ok: \"+ str(np.mean(ok_per)))"
      ],
      "execution_count": 0,
      "outputs": []
    }
  ]
}